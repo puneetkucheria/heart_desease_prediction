{
 "cells": [
  {
   "cell_type": "code",
   "execution_count": 1,
   "metadata": {},
   "outputs": [],
   "source": [
    "# Import General Libs\n",
    "import pandas as pd\n",
    "import sqlite3\n",
    "import seaborn as sns\n",
    "import matplotlib.pyplot as plt \n",
    "\n",
    "# Import XG Boost libs\n",
    "from xgboost import XGBClassifier\n",
    "\n",
    "# Import Other modeling libs\n",
    "from sklearn.model_selection import train_test_split\n",
    "from sklearn.metrics import confusion_matrix,accuracy_score,roc_curve,classification_report\n",
    "\n"
   ]
  },
  {
   "cell_type": "code",
   "execution_count": 2,
   "metadata": {},
   "outputs": [],
   "source": [
    "\n",
    "def get_heart_data():\n",
    "    # import data from sqlite3 database\n",
    "    con = sqlite3.connect('./../../../Database.db')\n",
    "    df = pd.read_sql_query(\"SELECT * FROM Heart_disease\", con)\n",
    "    return df"
   ]
  },
  {
   "cell_type": "code",
   "execution_count": 3,
   "metadata": {},
   "outputs": [],
   "source": [
    "df = get_heart_data()"
   ]
  },
  {
   "cell_type": "code",
   "execution_count": 4,
   "metadata": {},
   "outputs": [
    {
     "name": "stdout",
     "output_type": "stream",
     "text": [
      "<class 'pandas.core.frame.DataFrame'>\n",
      "RangeIndex: 319795 entries, 0 to 319794\n",
      "Data columns (total 18 columns):\n",
      " #   Column            Non-Null Count   Dtype \n",
      "---  ------            --------------   ----- \n",
      " 0   HeartDisease      319795 non-null  object\n",
      " 1   BMI               319795 non-null  object\n",
      " 2   Smoking           319795 non-null  object\n",
      " 3   AlcoholDrinking   319795 non-null  object\n",
      " 4   Stroke            319795 non-null  object\n",
      " 5   PhysicalHealth    319795 non-null  object\n",
      " 6   MentalHealth      319795 non-null  object\n",
      " 7   DiffWalking       319795 non-null  object\n",
      " 8   Sex               319795 non-null  object\n",
      " 9   AgeCategory       319795 non-null  object\n",
      " 10  Race              319795 non-null  object\n",
      " 11  Diabetic          319795 non-null  object\n",
      " 12  PhysicalActivity  319795 non-null  object\n",
      " 13  GenHealth         319795 non-null  object\n",
      " 14  SleepTime         319795 non-null  object\n",
      " 15  Asthma            319795 non-null  object\n",
      " 16  KidneyDisease     319795 non-null  object\n",
      " 17  SkinCancer        319795 non-null  object\n",
      "dtypes: object(18)\n",
      "memory usage: 43.9+ MB\n"
     ]
    }
   ],
   "source": [
    "df.info()"
   ]
  },
  {
   "cell_type": "code",
   "execution_count": 5,
   "metadata": {},
   "outputs": [
    {
     "data": {
      "text/html": [
       "<div>\n",
       "<style scoped>\n",
       "    .dataframe tbody tr th:only-of-type {\n",
       "        vertical-align: middle;\n",
       "    }\n",
       "\n",
       "    .dataframe tbody tr th {\n",
       "        vertical-align: top;\n",
       "    }\n",
       "\n",
       "    .dataframe thead th {\n",
       "        text-align: right;\n",
       "    }\n",
       "</style>\n",
       "<table border=\"1\" class=\"dataframe\">\n",
       "  <thead>\n",
       "    <tr style=\"text-align: right;\">\n",
       "      <th></th>\n",
       "      <th>HeartDisease</th>\n",
       "      <th>BMI</th>\n",
       "      <th>Smoking</th>\n",
       "      <th>AlcoholDrinking</th>\n",
       "      <th>Stroke</th>\n",
       "      <th>PhysicalHealth</th>\n",
       "      <th>MentalHealth</th>\n",
       "      <th>DiffWalking</th>\n",
       "      <th>Sex</th>\n",
       "      <th>AgeCategory</th>\n",
       "      <th>Race</th>\n",
       "      <th>Diabetic</th>\n",
       "      <th>PhysicalActivity</th>\n",
       "      <th>GenHealth</th>\n",
       "      <th>SleepTime</th>\n",
       "      <th>Asthma</th>\n",
       "      <th>KidneyDisease</th>\n",
       "      <th>SkinCancer</th>\n",
       "    </tr>\n",
       "  </thead>\n",
       "  <tbody>\n",
       "    <tr>\n",
       "      <th>0</th>\n",
       "      <td>No</td>\n",
       "      <td>16.6</td>\n",
       "      <td>Yes</td>\n",
       "      <td>No</td>\n",
       "      <td>No</td>\n",
       "      <td>3.0</td>\n",
       "      <td>30.0</td>\n",
       "      <td>No</td>\n",
       "      <td></td>\n",
       "      <td>55-59</td>\n",
       "      <td>White</td>\n",
       "      <td>Yes</td>\n",
       "      <td>Yes</td>\n",
       "      <td></td>\n",
       "      <td>5.0</td>\n",
       "      <td>Yes</td>\n",
       "      <td>No</td>\n",
       "      <td></td>\n",
       "    </tr>\n",
       "    <tr>\n",
       "      <th>1</th>\n",
       "      <td>No</td>\n",
       "      <td>20.34</td>\n",
       "      <td>No</td>\n",
       "      <td>No</td>\n",
       "      <td>Yes</td>\n",
       "      <td>0.0</td>\n",
       "      <td>0.0</td>\n",
       "      <td>No</td>\n",
       "      <td>Female</td>\n",
       "      <td>80 or older</td>\n",
       "      <td>White</td>\n",
       "      <td>No</td>\n",
       "      <td>Yes</td>\n",
       "      <td>Very good</td>\n",
       "      <td>7.0</td>\n",
       "      <td>No</td>\n",
       "      <td>No</td>\n",
       "      <td>No</td>\n",
       "    </tr>\n",
       "    <tr>\n",
       "      <th>2</th>\n",
       "      <td>No</td>\n",
       "      <td>26.58</td>\n",
       "      <td>Yes</td>\n",
       "      <td>No</td>\n",
       "      <td>No</td>\n",
       "      <td>20.0</td>\n",
       "      <td>30.0</td>\n",
       "      <td>No</td>\n",
       "      <td>Male</td>\n",
       "      <td>65-69</td>\n",
       "      <td>White</td>\n",
       "      <td>Yes</td>\n",
       "      <td>Yes</td>\n",
       "      <td>Fair</td>\n",
       "      <td>8.0</td>\n",
       "      <td>Yes</td>\n",
       "      <td>No</td>\n",
       "      <td>No</td>\n",
       "    </tr>\n",
       "    <tr>\n",
       "      <th>3</th>\n",
       "      <td>No</td>\n",
       "      <td>24.21</td>\n",
       "      <td>No</td>\n",
       "      <td>No</td>\n",
       "      <td>No</td>\n",
       "      <td>0.0</td>\n",
       "      <td>0.0</td>\n",
       "      <td>No</td>\n",
       "      <td>Female</td>\n",
       "      <td>75-79</td>\n",
       "      <td>White</td>\n",
       "      <td>No</td>\n",
       "      <td>No</td>\n",
       "      <td>Good</td>\n",
       "      <td>6.0</td>\n",
       "      <td>No</td>\n",
       "      <td>No</td>\n",
       "      <td>Yes</td>\n",
       "    </tr>\n",
       "    <tr>\n",
       "      <th>4</th>\n",
       "      <td>No</td>\n",
       "      <td>23.71</td>\n",
       "      <td>No</td>\n",
       "      <td>No</td>\n",
       "      <td>No</td>\n",
       "      <td>28.0</td>\n",
       "      <td>0.0</td>\n",
       "      <td>Yes</td>\n",
       "      <td>Female</td>\n",
       "      <td>40-44</td>\n",
       "      <td>White</td>\n",
       "      <td>No</td>\n",
       "      <td>Yes</td>\n",
       "      <td>Very good</td>\n",
       "      <td>8.0</td>\n",
       "      <td>No</td>\n",
       "      <td>No</td>\n",
       "      <td>No</td>\n",
       "    </tr>\n",
       "  </tbody>\n",
       "</table>\n",
       "</div>"
      ],
      "text/plain": [
       "  HeartDisease    BMI Smoking AlcoholDrinking Stroke PhysicalHealth  \\\n",
       "0           No   16.6     Yes              No     No            3.0   \n",
       "1           No  20.34      No              No    Yes            0.0   \n",
       "2           No  26.58     Yes              No     No           20.0   \n",
       "3           No  24.21      No              No     No            0.0   \n",
       "4           No  23.71      No              No     No           28.0   \n",
       "\n",
       "  MentalHealth DiffWalking     Sex  AgeCategory   Race Diabetic  \\\n",
       "0         30.0          No                55-59  White      Yes   \n",
       "1          0.0          No  Female  80 or older  White       No   \n",
       "2         30.0          No    Male        65-69  White      Yes   \n",
       "3          0.0          No  Female        75-79  White       No   \n",
       "4          0.0         Yes  Female        40-44  White       No   \n",
       "\n",
       "  PhysicalActivity  GenHealth SleepTime Asthma KidneyDisease SkinCancer  \n",
       "0              Yes                  5.0    Yes            No             \n",
       "1              Yes  Very good       7.0     No            No         No  \n",
       "2              Yes       Fair       8.0    Yes            No         No  \n",
       "3               No       Good       6.0     No            No        Yes  \n",
       "4              Yes  Very good       8.0     No            No         No  "
      ]
     },
     "execution_count": 5,
     "metadata": {},
     "output_type": "execute_result"
    }
   ],
   "source": [
    "df.head()"
   ]
  },
  {
   "cell_type": "code",
   "execution_count": 6,
   "metadata": {},
   "outputs": [],
   "source": [
    "num_col = ['BMI','PhysicalHealth', 'MentalHealth','SleepTime']\n",
    "cat_col = ['Smoking', 'AlcoholDrinking', 'Stroke', 'DiffWalking', 'Sex', 'AgeCategory',\n",
    "       'Race', 'Diabetic', 'PhysicalActivity', 'GenHealth', 'Asthma', 'KidneyDisease', 'SkinCancer']\n",
    "pre_col = ['HeartDisease']"
   ]
  },
  {
   "cell_type": "code",
   "execution_count": 7,
   "metadata": {},
   "outputs": [
    {
     "name": "stdout",
     "output_type": "stream",
     "text": [
      "Smoking\n",
      "No     181889\n",
      "Yes    127673\n",
      "        10233\n",
      "Name: count, dtype: int64\n",
      "\n",
      "AlcoholDrinking\n",
      "No     298018\n",
      "Yes     21777\n",
      "Name: count, dtype: int64\n",
      "\n",
      "Stroke\n",
      "No     307726\n",
      "Yes     12069\n",
      "Name: count, dtype: int64\n",
      "\n",
      "DiffWalking\n",
      "No     266604\n",
      "Yes     42958\n",
      "        10233\n",
      "Name: count, dtype: int64\n",
      "\n",
      "Sex\n",
      "Female    159449\n",
      "Male      144357\n",
      "           15989\n",
      "Name: count, dtype: int64\n",
      "\n",
      "AgeCategory\n",
      "65-69          34151\n",
      "60-64          33686\n",
      "70-74          31065\n",
      "55-59          29757\n",
      "50-54          25382\n",
      "80 or older    24153\n",
      "45-49          21791\n",
      "75-79          21482\n",
      "18-24          21064\n",
      "40-44          21006\n",
      "35-39          20550\n",
      "30-34          18753\n",
      "25-29          16955\n",
      "Name: count, dtype: int64\n",
      "\n",
      "Race\n",
      "White                             245212\n",
      "Hispanic                           27446\n",
      "Black                              22939\n",
      "Other                              10928\n",
      "Asian                               8068\n",
      "American Indian/Alaskan Native      5202\n",
      "Name: count, dtype: int64\n",
      "\n",
      "Diabetic\n",
      "No                         257256\n",
      "Yes                         38905\n",
      "                            14710\n",
      "No, borderline diabetes      6477\n",
      "Yes (during pregnancy)       2447\n",
      "Name: count, dtype: int64\n",
      "\n",
      "PhysicalActivity\n",
      "Yes    247957\n",
      "No      71838\n",
      "Name: count, dtype: int64\n",
      "\n",
      "GenHealth\n",
      "Very good    108151\n",
      "Good          88520\n",
      "Excellent     63480\n",
      "Fair          32891\n",
      "              15989\n",
      "Poor          10764\n",
      "Name: count, dtype: int64\n",
      "\n",
      "Asthma\n",
      "No     268009\n",
      "Yes     41553\n",
      "        10233\n",
      "Name: count, dtype: int64\n",
      "\n",
      "KidneyDisease\n",
      "No     308016\n",
      "Yes     11779\n",
      "Name: count, dtype: int64\n",
      "\n",
      "SkinCancer\n",
      "No     275461\n",
      "Yes     28345\n",
      "        15989\n",
      "Name: count, dtype: int64\n",
      "\n"
     ]
    }
   ],
   "source": [
    "for col in cat_col:\n",
    "    print(df[col].value_counts())\n",
    "    print(\"\")"
   ]
  },
  {
   "cell_type": "code",
   "execution_count": 8,
   "metadata": {},
   "outputs": [],
   "source": [
    "def convert_num_col(df, num_col):\n",
    "    for col in num_col:\n",
    "        df[col] = pd.to_numeric(df[col], errors='coerce')\n",
    "    return df\n",
    "\n",
    "def map_cat_col(df):\n",
    "    map_sex = {'Female': 0, 'Male': 1}\n",
    "    map_yn = {'No': 0, 'Yes': 1}\n",
    "    df['HeartDisease'] = df['HeartDisease'].map(map_yn)\n",
    "    df['Smoking'] = df['Smoking'].map(map_yn)\n",
    "    df['AlcoholDrinking'] = df['AlcoholDrinking'].map(map_yn)\n",
    "    df['Stroke'] = df['Stroke'].map(map_yn)\n",
    "    df['DiffWalking'] = df['DiffWalking'].map(map_yn)\n",
    "    df['Sex'] = df['Sex'].map(map_sex)\n",
    "    df['PhysicalActivity'] = df['PhysicalActivity'].map(map_yn)\n",
    "    df['Asthma'] = df['Asthma'].map(map_yn)\n",
    "    df['KidneyDisease'] = df['KidneyDisease'].map(map_yn)\n",
    "    df['SkinCancer'] = df['SkinCancer'].map(map_yn)\n",
    "    return df\n",
    "\n",
    "def replace_missing_data(df):\n",
    "    df['Smoking'] = df['Smoking'].fillna(0)\n",
    "    df['DiffWalking'] = df['DiffWalking'].fillna(0)\n",
    "    df['Sex'] = df['Sex'].fillna(1)\n",
    "    df['Asthma'] = df['Asthma'].fillna(0)\n",
    "    df['SkinCancer'] = df['SkinCancer'].fillna(0)\n",
    "    df['Diabetic'] = df['Diabetic'].fillna(0)\n",
    "    df['GenHealth'] = df['GenHealth'].replace('','Very good')\n",
    "    df['BMI'] = df['BMI'].fillna(df['BMI'].median())\n",
    "    df['PhysicalHealth'] = df['PhysicalHealth'].fillna(df['PhysicalHealth'].median())\n",
    "    return df\n",
    "\n",
    "def get_dummies(df):\n",
    "    col_dumm = ['AgeCategory', 'Race', 'Diabetic', 'GenHealth' ]\n",
    "    df = pd.get_dummies(df, columns =col_dumm, drop_first= False)\n",
    "    return df"
   ]
  },
  {
   "cell_type": "code",
   "execution_count": 9,
   "metadata": {},
   "outputs": [],
   "source": [
    "df = convert_num_col(df, num_col=num_col)\n"
   ]
  },
  {
   "cell_type": "code",
   "execution_count": 10,
   "metadata": {},
   "outputs": [
    {
     "name": "stdout",
     "output_type": "stream",
     "text": [
      "<class 'pandas.core.frame.DataFrame'>\n",
      "RangeIndex: 319795 entries, 0 to 319794\n",
      "Data columns (total 18 columns):\n",
      " #   Column            Non-Null Count   Dtype  \n",
      "---  ------            --------------   -----  \n",
      " 0   HeartDisease      319795 non-null  object \n",
      " 1   BMI               305085 non-null  float64\n",
      " 2   Smoking           319795 non-null  object \n",
      " 3   AlcoholDrinking   319795 non-null  object \n",
      " 4   Stroke            319795 non-null  object \n",
      " 5   PhysicalHealth    305085 non-null  float64\n",
      " 6   MentalHealth      319795 non-null  float64\n",
      " 7   DiffWalking       319795 non-null  object \n",
      " 8   Sex               319795 non-null  object \n",
      " 9   AgeCategory       319795 non-null  object \n",
      " 10  Race              319795 non-null  object \n",
      " 11  Diabetic          319795 non-null  object \n",
      " 12  PhysicalActivity  319795 non-null  object \n",
      " 13  GenHealth         319795 non-null  object \n",
      " 14  SleepTime         319795 non-null  float64\n",
      " 15  Asthma            319795 non-null  object \n",
      " 16  KidneyDisease     319795 non-null  object \n",
      " 17  SkinCancer        319795 non-null  object \n",
      "dtypes: float64(4), object(14)\n",
      "memory usage: 43.9+ MB\n"
     ]
    }
   ],
   "source": [
    "df.info()"
   ]
  },
  {
   "cell_type": "code",
   "execution_count": 11,
   "metadata": {},
   "outputs": [],
   "source": [
    "df = map_cat_col(df)\n"
   ]
  },
  {
   "cell_type": "code",
   "execution_count": 12,
   "metadata": {},
   "outputs": [
    {
     "name": "stdout",
     "output_type": "stream",
     "text": [
      "<class 'pandas.core.frame.DataFrame'>\n",
      "RangeIndex: 319795 entries, 0 to 319794\n",
      "Data columns (total 18 columns):\n",
      " #   Column            Non-Null Count   Dtype  \n",
      "---  ------            --------------   -----  \n",
      " 0   HeartDisease      319795 non-null  int64  \n",
      " 1   BMI               305085 non-null  float64\n",
      " 2   Smoking           309562 non-null  float64\n",
      " 3   AlcoholDrinking   319795 non-null  int64  \n",
      " 4   Stroke            319795 non-null  int64  \n",
      " 5   PhysicalHealth    305085 non-null  float64\n",
      " 6   MentalHealth      319795 non-null  float64\n",
      " 7   DiffWalking       309562 non-null  float64\n",
      " 8   Sex               303806 non-null  float64\n",
      " 9   AgeCategory       319795 non-null  object \n",
      " 10  Race              319795 non-null  object \n",
      " 11  Diabetic          319795 non-null  object \n",
      " 12  PhysicalActivity  319795 non-null  int64  \n",
      " 13  GenHealth         319795 non-null  object \n",
      " 14  SleepTime         319795 non-null  float64\n",
      " 15  Asthma            309562 non-null  float64\n",
      " 16  KidneyDisease     319795 non-null  int64  \n",
      " 17  SkinCancer        303806 non-null  float64\n",
      "dtypes: float64(9), int64(5), object(4)\n",
      "memory usage: 43.9+ MB\n"
     ]
    }
   ],
   "source": [
    "df.info()"
   ]
  },
  {
   "cell_type": "code",
   "execution_count": 13,
   "metadata": {},
   "outputs": [],
   "source": [
    "df = replace_missing_data(df)\n"
   ]
  },
  {
   "cell_type": "code",
   "execution_count": 14,
   "metadata": {},
   "outputs": [
    {
     "name": "stdout",
     "output_type": "stream",
     "text": [
      "<class 'pandas.core.frame.DataFrame'>\n",
      "RangeIndex: 319795 entries, 0 to 319794\n",
      "Data columns (total 18 columns):\n",
      " #   Column            Non-Null Count   Dtype  \n",
      "---  ------            --------------   -----  \n",
      " 0   HeartDisease      319795 non-null  int64  \n",
      " 1   BMI               319795 non-null  float64\n",
      " 2   Smoking           319795 non-null  float64\n",
      " 3   AlcoholDrinking   319795 non-null  int64  \n",
      " 4   Stroke            319795 non-null  int64  \n",
      " 5   PhysicalHealth    319795 non-null  float64\n",
      " 6   MentalHealth      319795 non-null  float64\n",
      " 7   DiffWalking       319795 non-null  float64\n",
      " 8   Sex               319795 non-null  float64\n",
      " 9   AgeCategory       319795 non-null  object \n",
      " 10  Race              319795 non-null  object \n",
      " 11  Diabetic          319795 non-null  object \n",
      " 12  PhysicalActivity  319795 non-null  int64  \n",
      " 13  GenHealth         319795 non-null  object \n",
      " 14  SleepTime         319795 non-null  float64\n",
      " 15  Asthma            319795 non-null  float64\n",
      " 16  KidneyDisease     319795 non-null  int64  \n",
      " 17  SkinCancer        319795 non-null  float64\n",
      "dtypes: float64(9), int64(5), object(4)\n",
      "memory usage: 43.9+ MB\n"
     ]
    }
   ],
   "source": [
    "df.info()"
   ]
  },
  {
   "cell_type": "code",
   "execution_count": 15,
   "metadata": {},
   "outputs": [],
   "source": [
    "df = get_dummies(df)"
   ]
  },
  {
   "cell_type": "code",
   "execution_count": 16,
   "metadata": {},
   "outputs": [
    {
     "name": "stdout",
     "output_type": "stream",
     "text": [
      "<class 'pandas.core.frame.DataFrame'>\n",
      "RangeIndex: 319795 entries, 0 to 319794\n",
      "Data columns (total 43 columns):\n",
      " #   Column                               Non-Null Count   Dtype  \n",
      "---  ------                               --------------   -----  \n",
      " 0   HeartDisease                         319795 non-null  int64  \n",
      " 1   BMI                                  319795 non-null  float64\n",
      " 2   Smoking                              319795 non-null  float64\n",
      " 3   AlcoholDrinking                      319795 non-null  int64  \n",
      " 4   Stroke                               319795 non-null  int64  \n",
      " 5   PhysicalHealth                       319795 non-null  float64\n",
      " 6   MentalHealth                         319795 non-null  float64\n",
      " 7   DiffWalking                          319795 non-null  float64\n",
      " 8   Sex                                  319795 non-null  float64\n",
      " 9   PhysicalActivity                     319795 non-null  int64  \n",
      " 10  SleepTime                            319795 non-null  float64\n",
      " 11  Asthma                               319795 non-null  float64\n",
      " 12  KidneyDisease                        319795 non-null  int64  \n",
      " 13  SkinCancer                           319795 non-null  float64\n",
      " 14  AgeCategory_18-24                    319795 non-null  bool   \n",
      " 15  AgeCategory_25-29                    319795 non-null  bool   \n",
      " 16  AgeCategory_30-34                    319795 non-null  bool   \n",
      " 17  AgeCategory_35-39                    319795 non-null  bool   \n",
      " 18  AgeCategory_40-44                    319795 non-null  bool   \n",
      " 19  AgeCategory_45-49                    319795 non-null  bool   \n",
      " 20  AgeCategory_50-54                    319795 non-null  bool   \n",
      " 21  AgeCategory_55-59                    319795 non-null  bool   \n",
      " 22  AgeCategory_60-64                    319795 non-null  bool   \n",
      " 23  AgeCategory_65-69                    319795 non-null  bool   \n",
      " 24  AgeCategory_70-74                    319795 non-null  bool   \n",
      " 25  AgeCategory_75-79                    319795 non-null  bool   \n",
      " 26  AgeCategory_80 or older              319795 non-null  bool   \n",
      " 27  Race_American Indian/Alaskan Native  319795 non-null  bool   \n",
      " 28  Race_Asian                           319795 non-null  bool   \n",
      " 29  Race_Black                           319795 non-null  bool   \n",
      " 30  Race_Hispanic                        319795 non-null  bool   \n",
      " 31  Race_Other                           319795 non-null  bool   \n",
      " 32  Race_White                           319795 non-null  bool   \n",
      " 33  Diabetic_                            319795 non-null  bool   \n",
      " 34  Diabetic_No                          319795 non-null  bool   \n",
      " 35  Diabetic_No, borderline diabetes     319795 non-null  bool   \n",
      " 36  Diabetic_Yes                         319795 non-null  bool   \n",
      " 37  Diabetic_Yes (during pregnancy)      319795 non-null  bool   \n",
      " 38  GenHealth_Excellent                  319795 non-null  bool   \n",
      " 39  GenHealth_Fair                       319795 non-null  bool   \n",
      " 40  GenHealth_Good                       319795 non-null  bool   \n",
      " 41  GenHealth_Poor                       319795 non-null  bool   \n",
      " 42  GenHealth_Very good                  319795 non-null  bool   \n",
      "dtypes: bool(29), float64(9), int64(5)\n",
      "memory usage: 43.0 MB\n"
     ]
    }
   ],
   "source": [
    "df.info()"
   ]
  },
  {
   "cell_type": "code",
   "execution_count": 17,
   "metadata": {},
   "outputs": [
    {
     "data": {
      "text/plain": [
       "HeartDisease\n",
       "0    292422\n",
       "1     27373\n",
       "Name: count, dtype: int64"
      ]
     },
     "execution_count": 17,
     "metadata": {},
     "output_type": "execute_result"
    }
   ],
   "source": [
    "df.HeartDisease.value_counts()"
   ]
  },
  {
   "cell_type": "markdown",
   "metadata": {},
   "source": [
    "# Split Test and Train Data"
   ]
  },
  {
   "cell_type": "code",
   "execution_count": 18,
   "metadata": {},
   "outputs": [],
   "source": [
    "def train_test_split_and_features(data):\n",
    "    y = data['HeartDisease']\n",
    "    x = data.drop('HeartDisease',axis=1)\n",
    "    x_train, x_test, y_train, y_test = train_test_split(x, y, test_size=0.20, shuffle = False, random_state = 0)\n",
    "    # print(x.head(5))\n",
    "    print(x.columns)\n",
    "    features = list(x.columns)\n",
    "    return x_train, x_test, y_train, y_test,features"
   ]
  },
  {
   "cell_type": "code",
   "execution_count": 19,
   "metadata": {},
   "outputs": [
    {
     "name": "stdout",
     "output_type": "stream",
     "text": [
      "Index(['BMI', 'Smoking', 'AlcoholDrinking', 'Stroke', 'PhysicalHealth',\n",
      "       'MentalHealth', 'DiffWalking', 'Sex', 'PhysicalActivity', 'SleepTime',\n",
      "       'Asthma', 'KidneyDisease', 'SkinCancer', 'AgeCategory_18-24',\n",
      "       'AgeCategory_25-29', 'AgeCategory_30-34', 'AgeCategory_35-39',\n",
      "       'AgeCategory_40-44', 'AgeCategory_45-49', 'AgeCategory_50-54',\n",
      "       'AgeCategory_55-59', 'AgeCategory_60-64', 'AgeCategory_65-69',\n",
      "       'AgeCategory_70-74', 'AgeCategory_75-79', 'AgeCategory_80 or older',\n",
      "       'Race_American Indian/Alaskan Native', 'Race_Asian', 'Race_Black',\n",
      "       'Race_Hispanic', 'Race_Other', 'Race_White', 'Diabetic_', 'Diabetic_No',\n",
      "       'Diabetic_No, borderline diabetes', 'Diabetic_Yes',\n",
      "       'Diabetic_Yes (during pregnancy)', 'GenHealth_Excellent',\n",
      "       'GenHealth_Fair', 'GenHealth_Good', 'GenHealth_Poor',\n",
      "       'GenHealth_Very good'],\n",
      "      dtype='object')\n"
     ]
    }
   ],
   "source": [
    "x_train, x_test, y_train, y_test,features = train_test_split_and_features(df)"
   ]
  },
  {
   "cell_type": "markdown",
   "metadata": {},
   "source": [
    "# Try Decission Tree"
   ]
  },
  {
   "cell_type": "code",
   "execution_count": null,
   "metadata": {},
   "outputs": [],
   "source": [
    "# Decission Tree Libs\n",
    "from sklearn import tree\n",
    "from sklearn.tree import DecisionTreeClassifier"
   ]
  },
  {
   "cell_type": "code",
   "execution_count": 155,
   "metadata": {},
   "outputs": [],
   "source": [
    "dtree = DecisionTreeClassifier(max_depth=3,min_samples_split=10)"
   ]
  },
  {
   "cell_type": "code",
   "execution_count": 156,
   "metadata": {},
   "outputs": [],
   "source": [
    "def fit_and_evaluate_model(x_train, x_test, y_train, y_test,dtree):\n",
    "    dtree.fit(x_train, y_train)\n",
    "    dtre_predict = dtree.predict(x_test)\n",
    "    dtre_conf_matrix = confusion_matrix(y_test, dtre_predict)\n",
    "    dtre_acc_score = accuracy_score(y_test, dtre_predict)\n",
    "    print(\"confussion matrix\")\n",
    "    print(dtre_conf_matrix)\n",
    "    print(\"\\n\")\n",
    "    print(\"Accuracy of XGBoost:\",dtre_acc_score*100,'\\n')\n",
    "    print(classification_report(y_test,dtre_predict))\n",
    "    return dtree"
   ]
  },
  {
   "cell_type": "code",
   "execution_count": 164,
   "metadata": {},
   "outputs": [
    {
     "name": "stdout",
     "output_type": "stream",
     "text": [
      "confussion matrix\n",
      "[[50467  8104]\n",
      " [ 3384  2004]]\n",
      "\n",
      "\n",
      "Accuracy of XGBoost: 82.03849340984067 \n",
      "\n",
      "              precision    recall  f1-score   support\n",
      "\n",
      "           0       0.94      0.86      0.90     58571\n",
      "           1       0.20      0.37      0.26      5388\n",
      "\n",
      "    accuracy                           0.82     63959\n",
      "   macro avg       0.57      0.62      0.58     63959\n",
      "weighted avg       0.87      0.82      0.84     63959\n",
      "\n"
     ]
    }
   ],
   "source": [
    "dtree = DecisionTreeClassifier(max_depth=100,min_samples_split=10, class_weight={0:1,1:150})\n",
    "model = fit_and_evaluate_model(x_train, x_test, y_train, y_test,dtree)\n",
    "\n",
    "#confussion matrix\n",
    "# [[58457   114]\n",
    "#  [ 5218   170]]"
   ]
  },
  {
   "cell_type": "markdown",
   "metadata": {},
   "source": [
    "# Try Random Forest"
   ]
  },
  {
   "cell_type": "code",
   "execution_count": 144,
   "metadata": {},
   "outputs": [
    {
     "data": {
      "text/html": [
       "<div>\n",
       "<style scoped>\n",
       "    .dataframe tbody tr th:only-of-type {\n",
       "        vertical-align: middle;\n",
       "    }\n",
       "\n",
       "    .dataframe tbody tr th {\n",
       "        vertical-align: top;\n",
       "    }\n",
       "\n",
       "    .dataframe thead th {\n",
       "        text-align: right;\n",
       "    }\n",
       "</style>\n",
       "<table border=\"1\" class=\"dataframe\">\n",
       "  <thead>\n",
       "    <tr style=\"text-align: right;\">\n",
       "      <th></th>\n",
       "      <th>HeartDisease</th>\n",
       "      <th>BMI</th>\n",
       "      <th>Smoking</th>\n",
       "      <th>AlcoholDrinking</th>\n",
       "      <th>Stroke</th>\n",
       "      <th>PhysicalHealth</th>\n",
       "      <th>MentalHealth</th>\n",
       "      <th>DiffWalking</th>\n",
       "      <th>Sex</th>\n",
       "      <th>PhysicalActivity</th>\n",
       "      <th>...</th>\n",
       "      <th>Diabetic_</th>\n",
       "      <th>Diabetic_No</th>\n",
       "      <th>Diabetic_No, borderline diabetes</th>\n",
       "      <th>Diabetic_Yes</th>\n",
       "      <th>Diabetic_Yes (during pregnancy)</th>\n",
       "      <th>GenHealth_Excellent</th>\n",
       "      <th>GenHealth_Fair</th>\n",
       "      <th>GenHealth_Good</th>\n",
       "      <th>GenHealth_Poor</th>\n",
       "      <th>GenHealth_Very good</th>\n",
       "    </tr>\n",
       "  </thead>\n",
       "  <tbody>\n",
       "    <tr>\n",
       "      <th>0</th>\n",
       "      <td>0</td>\n",
       "      <td>16.60</td>\n",
       "      <td>1.0</td>\n",
       "      <td>0</td>\n",
       "      <td>0</td>\n",
       "      <td>3.0</td>\n",
       "      <td>30.0</td>\n",
       "      <td>0.0</td>\n",
       "      <td>1.0</td>\n",
       "      <td>1</td>\n",
       "      <td>...</td>\n",
       "      <td>False</td>\n",
       "      <td>False</td>\n",
       "      <td>False</td>\n",
       "      <td>True</td>\n",
       "      <td>False</td>\n",
       "      <td>False</td>\n",
       "      <td>False</td>\n",
       "      <td>False</td>\n",
       "      <td>False</td>\n",
       "      <td>True</td>\n",
       "    </tr>\n",
       "    <tr>\n",
       "      <th>1</th>\n",
       "      <td>0</td>\n",
       "      <td>20.34</td>\n",
       "      <td>0.0</td>\n",
       "      <td>0</td>\n",
       "      <td>1</td>\n",
       "      <td>0.0</td>\n",
       "      <td>0.0</td>\n",
       "      <td>0.0</td>\n",
       "      <td>0.0</td>\n",
       "      <td>1</td>\n",
       "      <td>...</td>\n",
       "      <td>False</td>\n",
       "      <td>True</td>\n",
       "      <td>False</td>\n",
       "      <td>False</td>\n",
       "      <td>False</td>\n",
       "      <td>False</td>\n",
       "      <td>False</td>\n",
       "      <td>False</td>\n",
       "      <td>False</td>\n",
       "      <td>True</td>\n",
       "    </tr>\n",
       "    <tr>\n",
       "      <th>2</th>\n",
       "      <td>0</td>\n",
       "      <td>26.58</td>\n",
       "      <td>1.0</td>\n",
       "      <td>0</td>\n",
       "      <td>0</td>\n",
       "      <td>20.0</td>\n",
       "      <td>30.0</td>\n",
       "      <td>0.0</td>\n",
       "      <td>1.0</td>\n",
       "      <td>1</td>\n",
       "      <td>...</td>\n",
       "      <td>False</td>\n",
       "      <td>False</td>\n",
       "      <td>False</td>\n",
       "      <td>True</td>\n",
       "      <td>False</td>\n",
       "      <td>False</td>\n",
       "      <td>True</td>\n",
       "      <td>False</td>\n",
       "      <td>False</td>\n",
       "      <td>False</td>\n",
       "    </tr>\n",
       "    <tr>\n",
       "      <th>3</th>\n",
       "      <td>0</td>\n",
       "      <td>24.21</td>\n",
       "      <td>0.0</td>\n",
       "      <td>0</td>\n",
       "      <td>0</td>\n",
       "      <td>0.0</td>\n",
       "      <td>0.0</td>\n",
       "      <td>0.0</td>\n",
       "      <td>0.0</td>\n",
       "      <td>0</td>\n",
       "      <td>...</td>\n",
       "      <td>False</td>\n",
       "      <td>True</td>\n",
       "      <td>False</td>\n",
       "      <td>False</td>\n",
       "      <td>False</td>\n",
       "      <td>False</td>\n",
       "      <td>False</td>\n",
       "      <td>True</td>\n",
       "      <td>False</td>\n",
       "      <td>False</td>\n",
       "    </tr>\n",
       "    <tr>\n",
       "      <th>4</th>\n",
       "      <td>0</td>\n",
       "      <td>23.71</td>\n",
       "      <td>0.0</td>\n",
       "      <td>0</td>\n",
       "      <td>0</td>\n",
       "      <td>28.0</td>\n",
       "      <td>0.0</td>\n",
       "      <td>1.0</td>\n",
       "      <td>0.0</td>\n",
       "      <td>1</td>\n",
       "      <td>...</td>\n",
       "      <td>False</td>\n",
       "      <td>True</td>\n",
       "      <td>False</td>\n",
       "      <td>False</td>\n",
       "      <td>False</td>\n",
       "      <td>False</td>\n",
       "      <td>False</td>\n",
       "      <td>False</td>\n",
       "      <td>False</td>\n",
       "      <td>True</td>\n",
       "    </tr>\n",
       "  </tbody>\n",
       "</table>\n",
       "<p>5 rows × 43 columns</p>\n",
       "</div>"
      ],
      "text/plain": [
       "   HeartDisease    BMI  Smoking  AlcoholDrinking  Stroke  PhysicalHealth  \\\n",
       "0             0  16.60      1.0                0       0             3.0   \n",
       "1             0  20.34      0.0                0       1             0.0   \n",
       "2             0  26.58      1.0                0       0            20.0   \n",
       "3             0  24.21      0.0                0       0             0.0   \n",
       "4             0  23.71      0.0                0       0            28.0   \n",
       "\n",
       "   MentalHealth  DiffWalking  Sex  PhysicalActivity  ...  Diabetic_  \\\n",
       "0          30.0          0.0  1.0                 1  ...      False   \n",
       "1           0.0          0.0  0.0                 1  ...      False   \n",
       "2          30.0          0.0  1.0                 1  ...      False   \n",
       "3           0.0          0.0  0.0                 0  ...      False   \n",
       "4           0.0          1.0  0.0                 1  ...      False   \n",
       "\n",
       "   Diabetic_No  Diabetic_No, borderline diabetes  Diabetic_Yes  \\\n",
       "0        False                             False          True   \n",
       "1         True                             False         False   \n",
       "2        False                             False          True   \n",
       "3         True                             False         False   \n",
       "4         True                             False         False   \n",
       "\n",
       "   Diabetic_Yes (during pregnancy)  GenHealth_Excellent  GenHealth_Fair  \\\n",
       "0                            False                False           False   \n",
       "1                            False                False           False   \n",
       "2                            False                False            True   \n",
       "3                            False                False           False   \n",
       "4                            False                False           False   \n",
       "\n",
       "   GenHealth_Good  GenHealth_Poor  GenHealth_Very good  \n",
       "0           False           False                 True  \n",
       "1           False           False                 True  \n",
       "2           False           False                False  \n",
       "3            True           False                False  \n",
       "4           False           False                 True  \n",
       "\n",
       "[5 rows x 43 columns]"
      ]
     },
     "execution_count": 144,
     "metadata": {},
     "output_type": "execute_result"
    }
   ],
   "source": [
    "# Normalization for Random Forest\n"
   ]
  },
  {
   "cell_type": "code",
   "execution_count": 36,
   "metadata": {},
   "outputs": [],
   "source": [
    "from sklearn.ensemble import RandomForestClassifier\n"
   ]
  },
  {
   "cell_type": "code",
   "execution_count": 37,
   "metadata": {},
   "outputs": [],
   "source": [
    "# n_estimators = 100 by default  ( you can try with different values)\n",
    "# bootstrap ( data row bagging) is True by default\n",
    "# max_samples = 1\n",
    "\n",
    "def fit_and_evaluate_model(x_train, x_test, y_train, y_test,max_depth=5,min_samples_split=0.01,max_features=0.8,max_samples=0.8):\n",
    "    random_forest =  RandomForestClassifier(random_state=0,\\\n",
    "                                            max_depth=max_depth,\\\n",
    "                                            min_samples_split=min_samples_split,\\\n",
    "                                            max_features=max_features,\\\n",
    "                                            max_samples=max_samples,\\\n",
    "                                            class_weight={0:1,1:2}, )\n",
    "\n",
    "    model = random_forest.fit(x_train, y_train)\n",
    "    random_forest_predict = random_forest.predict(x_test)\n",
    "    random_forest_conf_matrix = confusion_matrix(y_test, random_forest_predict)\n",
    "    random_forest_acc_score = accuracy_score(y_test, random_forest_predict)\n",
    "    print(\"confussion matrix\")\n",
    "    print(random_forest_conf_matrix)\n",
    "    print(\"\\n\")\n",
    "    print(\"Accuracy of Random Forest:\",random_forest_acc_score*100,'\\n')\n",
    "    print(classification_report(y_test,random_forest_predict))\n",
    "    return model"
   ]
  },
  {
   "cell_type": "code",
   "execution_count": 38,
   "metadata": {},
   "outputs": [
    {
     "name": "stdout",
     "output_type": "stream",
     "text": [
      "confussion matrix\n",
      "[[57589   982]\n",
      " [ 4610   778]]\n",
      "\n",
      "\n",
      "Accuracy of Random Forest: 91.25689895089042 \n",
      "\n",
      "              precision    recall  f1-score   support\n",
      "\n",
      "           0       0.93      0.98      0.95     58571\n",
      "           1       0.44      0.14      0.22      5388\n",
      "\n",
      "    accuracy                           0.91     63959\n",
      "   macro avg       0.68      0.56      0.59     63959\n",
      "weighted avg       0.89      0.91      0.89     63959\n",
      "\n"
     ]
    }
   ],
   "source": [
    "model = fit_and_evaluate_model(x_train, x_test, y_train, y_test) # 10 weight"
   ]
  },
  {
   "cell_type": "code",
   "execution_count": 39,
   "metadata": {},
   "outputs": [
    {
     "name": "stdout",
     "output_type": "stream",
     "text": [
      "Resampled dataset shape Counter({0: 233851, 1: 210465})\n"
     ]
    }
   ],
   "source": [
    "from imblearn.over_sampling import SMOTE\n",
    "from sklearn.datasets import make_classification\n",
    "from collections import Counter\n",
    "# Use this on your x_train and y_train\n",
    "\n",
    "# Define the percentage of oversampling \n",
    "sampling_strategy = 0.9  # number between 0 to 1 \n",
    "# after resampling minority class would be 50% of majority class\n",
    "\n",
    "# Apply SMOTE with specified oversampling percentage\n",
    "smote = SMOTE(sampling_strategy=sampling_strategy, random_state=42)\n",
    "x_res, y_res = smote.fit_resample(x_train, y_train)\n",
    "\n",
    "print('Resampled dataset shape %s' % Counter(y_res))"
   ]
  },
  {
   "cell_type": "code",
   "execution_count": 40,
   "metadata": {},
   "outputs": [
    {
     "name": "stdout",
     "output_type": "stream",
     "text": [
      "confussion matrix\n",
      "[[40508 18063]\n",
      " [ 1602  3786]]\n",
      "\n",
      "\n",
      "Accuracy of Random Forest: 69.25374067762161 \n",
      "\n",
      "              precision    recall  f1-score   support\n",
      "\n",
      "           0       0.96      0.69      0.80     58571\n",
      "           1       0.17      0.70      0.28      5388\n",
      "\n",
      "    accuracy                           0.69     63959\n",
      "   macro avg       0.57      0.70      0.54     63959\n",
      "weighted avg       0.90      0.69      0.76     63959\n",
      "\n"
     ]
    }
   ],
   "source": [
    "model = fit_and_evaluate_model(x_res, x_test, y_res, y_test) # 10 weight and 0.4 SMOTE"
   ]
  },
  {
   "cell_type": "code",
   "execution_count": 148,
   "metadata": {},
   "outputs": [
    {
     "name": "stdout",
     "output_type": "stream",
     "text": [
      "confussion matrix\n",
      "[[51226  7345]\n",
      " [ 2865  2523]]\n",
      "\n",
      "\n",
      "Accuracy of Random Forest: 84.03664847793118 \n",
      "\n",
      "              precision    recall  f1-score   support\n",
      "\n",
      "           0       0.95      0.87      0.91     58571\n",
      "           1       0.26      0.47      0.33      5388\n",
      "\n",
      "    accuracy                           0.84     63959\n",
      "   macro avg       0.60      0.67      0.62     63959\n",
      "weighted avg       0.89      0.84      0.86     63959\n",
      "\n"
     ]
    }
   ],
   "source": [
    "model = fit_and_evaluate_model(x_res, x_test, y_res, y_test) # 2 weight and 0.5 SMOTE"
   ]
  },
  {
   "cell_type": "code",
   "execution_count": null,
   "metadata": {},
   "outputs": [],
   "source": []
  },
  {
   "cell_type": "code",
   "execution_count": null,
   "metadata": {},
   "outputs": [],
   "source": []
  },
  {
   "cell_type": "markdown",
   "metadata": {},
   "source": [
    "# Try KNN"
   ]
  },
  {
   "cell_type": "code",
   "execution_count": 132,
   "metadata": {},
   "outputs": [],
   "source": [
    "from sklearn.neighbors import KNeighborsClassifier\n",
    "from sklearn.metrics import confusion_matrix, mean_squared_error , r2_score\n",
    "from sklearn import neighbors\n",
    "from math import sqrt\n",
    "from sklearn.preprocessing import MinMaxScaler"
   ]
  },
  {
   "cell_type": "code",
   "execution_count": 149,
   "metadata": {},
   "outputs": [
    {
     "data": {
      "text/plain": [
       "0.9151174971466095"
      ]
     },
     "execution_count": 149,
     "metadata": {},
     "output_type": "execute_result"
    }
   ],
   "source": [
    "knn = KNeighborsClassifier(n_neighbors=15)#, weights='distance')\n",
    "knn.fit(x_train,y_train)\n",
    "knn.score(x_test,y_test)"
   ]
  },
  {
   "cell_type": "code",
   "execution_count": 150,
   "metadata": {},
   "outputs": [
    {
     "data": {
      "text/plain": [
       "array([[58409,   162],\n",
       "       [ 5267,   121]])"
      ]
     },
     "execution_count": 150,
     "metadata": {},
     "output_type": "execute_result"
    }
   ],
   "source": [
    "y_pre = knn.predict(x_test)\n",
    "cm = confusion_matrix(y_test, y_pre)\n",
    "cm\n",
    "\n",
    "#Initial CM with no modification\n",
    "# array([[58186,   385],\n",
    "    #    [ 5144,   244]])"
   ]
  },
  {
   "cell_type": "code",
   "execution_count": null,
   "metadata": {},
   "outputs": [],
   "source": []
  },
  {
   "cell_type": "markdown",
   "metadata": {},
   "source": [
    "# XGBoost"
   ]
  },
  {
   "cell_type": "code",
   "execution_count": null,
   "metadata": {},
   "outputs": [],
   "source": []
  },
  {
   "cell_type": "code",
   "execution_count": 20,
   "metadata": {},
   "outputs": [],
   "source": [
    "# Import XG Boost libs\n",
    "from xgboost import XGBClassifier"
   ]
  },
  {
   "cell_type": "code",
   "execution_count": 21,
   "metadata": {},
   "outputs": [],
   "source": [
    "def fit_and_evaluate_model(x_train, x_test, y_train, y_test,xgb):\n",
    "    xgb.fit(x_train, y_train)\n",
    "    xgb_predict = xgb.predict(x_test)\n",
    "    xgb_conf_matrix = confusion_matrix(y_test, xgb_predict)\n",
    "    xgb_acc_score = accuracy_score(y_test, xgb_predict)\n",
    "    print(\"confussion matrix\")\n",
    "    print(xgb_conf_matrix)\n",
    "    print(\"\\n\")\n",
    "    print(\"Accuracy of XGBoost:\",xgb_acc_score*100,'\\n')\n",
    "    print(classification_report(y_test,xgb_predict))\n",
    "    return xgb"
   ]
  },
  {
   "cell_type": "code",
   "execution_count": 28,
   "metadata": {},
   "outputs": [
    {
     "name": "stdout",
     "output_type": "stream",
     "text": [
      "confussion matrix\n",
      "[[58091   480]\n",
      " [ 4849   539]]\n",
      "\n",
      "\n",
      "Accuracy of XGBoost: 91.66809987648338 \n",
      "\n",
      "              precision    recall  f1-score   support\n",
      "\n",
      "           0       0.92      0.99      0.96     58571\n",
      "           1       0.53      0.10      0.17      5388\n",
      "\n",
      "    accuracy                           0.92     63959\n",
      "   macro avg       0.73      0.55      0.56     63959\n",
      "weighted avg       0.89      0.92      0.89     63959\n",
      "\n"
     ]
    }
   ],
   "source": [
    "#Default parameters:\n",
    "   # learning_rate = 0.3\n",
    "   # max_depth = 6\n",
    "   # subsample = 1\n",
    "   # colsample_bytree = 1\n",
    "   # n_estimators = 100\n",
    "xgb =  XGBClassifier(random_state=0)\n",
    "model = fit_and_evaluate_model(x_train, x_test, y_train, y_test,xgb)"
   ]
  },
  {
   "cell_type": "code",
   "execution_count": 22,
   "metadata": {},
   "outputs": [
    {
     "name": "stdout",
     "output_type": "stream",
     "text": [
      "Resampled dataset shape Counter({0: 233851, 1: 210465})\n"
     ]
    }
   ],
   "source": [
    "#Handling Imbalance Data\n",
    "\n",
    "from imblearn.over_sampling import SMOTE\n",
    "from sklearn.datasets import make_classification\n",
    "from collections import Counter\n",
    "# Use this on your x_train and y_train\n",
    "\n",
    "# Define the percentage of oversampling \n",
    "sampling_strategy = 0.9  # number between 0 to 1 \n",
    "# after resampling minority class would be 50% of majority class\n",
    "\n",
    "# Apply SMOTE with specified oversampling percentage\n",
    "smote = SMOTE(sampling_strategy=sampling_strategy, random_state=42)\n",
    "x_res, y_res = smote.fit_resample(x_train, y_train)\n",
    "\n",
    "print('Resampled dataset shape %s' % Counter(y_res))"
   ]
  },
  {
   "cell_type": "code",
   "execution_count": 30,
   "metadata": {},
   "outputs": [
    {
     "name": "stdout",
     "output_type": "stream",
     "text": [
      "confussion matrix\n",
      "[[56778  1793]\n",
      " [ 4377  1011]]\n",
      "\n",
      "\n",
      "Accuracy of XGBoost: 90.35319501555684 \n",
      "\n",
      "              precision    recall  f1-score   support\n",
      "\n",
      "           0       0.93      0.97      0.95     58571\n",
      "           1       0.36      0.19      0.25      5388\n",
      "\n",
      "    accuracy                           0.90     63959\n",
      "   macro avg       0.64      0.58      0.60     63959\n",
      "weighted avg       0.88      0.90      0.89     63959\n",
      "\n"
     ]
    }
   ],
   "source": [
    "#Default parameters:\n",
    "   # learning_rate = 0.3\n",
    "   # max_depth = 6\n",
    "   # subsample = 1\n",
    "   # colsample_bytree = 1\n",
    "   # n_estimators = 100\n",
    "xgb =  XGBClassifier(random_state=0)\n",
    "model = fit_and_evaluate_model(x_res, x_test, y_res, y_test,xgb)"
   ]
  },
  {
   "cell_type": "code",
   "execution_count": 23,
   "metadata": {},
   "outputs": [],
   "source": [
    "#Default parameters:\n",
    "   # learning_rate = 0.3\n",
    "   # max_depth = 6\n",
    "   # subsample = 1\n",
    "   # colsample_bytree = 1\n",
    "   # n_estimators = 100\n",
    "\n",
    "param_grid = [{'learning_rate': [0.1, 0.3, 0.5, 0.7],\n",
    "               'max_depth': [3,6,10],\n",
    "               'subsample': [0.8, 1],\n",
    "               'colsample_bytree': [0.8, 1],\n",
    "               'n_estimators' : [50, 100, 150]}\n",
    "             ]"
   ]
  },
  {
   "cell_type": "code",
   "execution_count": 24,
   "metadata": {},
   "outputs": [
    {
     "name": "stdout",
     "output_type": "stream",
     "text": [
      "Fitting 5 folds for each of 144 candidates, totalling 720 fits\n",
      "[CV 1/5] END colsample_bytree=0.8, learning_rate=0.1, max_depth=3, n_estimators=50, subsample=0.8;, score=nan total time=   0.7s\n",
      "[CV 2/5] END colsample_bytree=0.8, learning_rate=0.1, max_depth=3, n_estimators=50, subsample=0.8;, score=nan total time=   0.7s\n",
      "[CV 3/5] END colsample_bytree=0.8, learning_rate=0.1, max_depth=3, n_estimators=50, subsample=0.8;, score=nan total time=   0.7s\n",
      "[CV 4/5] END colsample_bytree=0.8, learning_rate=0.1, max_depth=3, n_estimators=50, subsample=0.8;, score=nan total time=   0.7s\n",
      "[CV 5/5] END colsample_bytree=0.8, learning_rate=0.1, max_depth=3, n_estimators=50, subsample=0.8;, score=nan total time=   0.7s\n",
      "[CV 1/5] END colsample_bytree=0.8, learning_rate=0.1, max_depth=3, n_estimators=50, subsample=1;, score=nan total time=   0.7s\n",
      "[CV 2/5] END colsample_bytree=0.8, learning_rate=0.1, max_depth=3, n_estimators=50, subsample=1;, score=nan total time=   0.7s\n",
      "[CV 3/5] END colsample_bytree=0.8, learning_rate=0.1, max_depth=3, n_estimators=50, subsample=1;, score=nan total time=   0.7s\n",
      "[CV 4/5] END colsample_bytree=0.8, learning_rate=0.1, max_depth=3, n_estimators=50, subsample=1;, score=nan total time=   0.7s\n",
      "[CV 5/5] END colsample_bytree=0.8, learning_rate=0.1, max_depth=3, n_estimators=50, subsample=1;, score=nan total time=   0.7s\n",
      "[CV 1/5] END colsample_bytree=0.8, learning_rate=0.1, max_depth=3, n_estimators=100, subsample=0.8;, score=nan total time=   0.7s\n",
      "[CV 2/5] END colsample_bytree=0.8, learning_rate=0.1, max_depth=3, n_estimators=100, subsample=0.8;, score=nan total time=   0.7s\n",
      "[CV 3/5] END colsample_bytree=0.8, learning_rate=0.1, max_depth=3, n_estimators=100, subsample=0.8;, score=nan total time=   0.7s\n",
      "[CV 4/5] END colsample_bytree=0.8, learning_rate=0.1, max_depth=3, n_estimators=100, subsample=0.8;, score=nan total time=   0.7s\n",
      "[CV 5/5] END colsample_bytree=0.8, learning_rate=0.1, max_depth=3, n_estimators=100, subsample=0.8;, score=nan total time=   0.7s\n",
      "[CV 1/5] END colsample_bytree=0.8, learning_rate=0.1, max_depth=3, n_estimators=100, subsample=1;, score=nan total time=   0.7s\n",
      "[CV 2/5] END colsample_bytree=0.8, learning_rate=0.1, max_depth=3, n_estimators=100, subsample=1;, score=nan total time=   0.7s\n",
      "[CV 3/5] END colsample_bytree=0.8, learning_rate=0.1, max_depth=3, n_estimators=100, subsample=1;, score=nan total time=   0.7s\n",
      "[CV 4/5] END colsample_bytree=0.8, learning_rate=0.1, max_depth=3, n_estimators=100, subsample=1;, score=nan total time=   0.7s\n",
      "[CV 5/5] END colsample_bytree=0.8, learning_rate=0.1, max_depth=3, n_estimators=100, subsample=1;, score=nan total time=   0.7s\n",
      "[CV 1/5] END colsample_bytree=0.8, learning_rate=0.1, max_depth=3, n_estimators=150, subsample=0.8;, score=nan total time=   0.7s\n",
      "[CV 2/5] END colsample_bytree=0.8, learning_rate=0.1, max_depth=3, n_estimators=150, subsample=0.8;, score=nan total time=   0.7s\n",
      "[CV 3/5] END colsample_bytree=0.8, learning_rate=0.1, max_depth=3, n_estimators=150, subsample=0.8;, score=nan total time=   0.7s\n",
      "[CV 4/5] END colsample_bytree=0.8, learning_rate=0.1, max_depth=3, n_estimators=150, subsample=0.8;, score=nan total time=   0.7s\n",
      "[CV 5/5] END colsample_bytree=0.8, learning_rate=0.1, max_depth=3, n_estimators=150, subsample=0.8;, score=nan total time=   0.7s\n",
      "[CV 1/5] END colsample_bytree=0.8, learning_rate=0.1, max_depth=3, n_estimators=150, subsample=1;, score=nan total time=   0.7s\n",
      "[CV 2/5] END colsample_bytree=0.8, learning_rate=0.1, max_depth=3, n_estimators=150, subsample=1;, score=nan total time=   0.7s\n",
      "[CV 3/5] END colsample_bytree=0.8, learning_rate=0.1, max_depth=3, n_estimators=150, subsample=1;, score=nan total time=   0.7s\n",
      "[CV 4/5] END colsample_bytree=0.8, learning_rate=0.1, max_depth=3, n_estimators=150, subsample=1;, score=nan total time=   0.7s\n",
      "[CV 5/5] END colsample_bytree=0.8, learning_rate=0.1, max_depth=3, n_estimators=150, subsample=1;, score=nan total time=   0.7s\n",
      "[CV 1/5] END colsample_bytree=0.8, learning_rate=0.1, max_depth=6, n_estimators=50, subsample=0.8;, score=nan total time=   0.7s\n",
      "[CV 2/5] END colsample_bytree=0.8, learning_rate=0.1, max_depth=6, n_estimators=50, subsample=0.8;, score=nan total time=   0.7s\n",
      "[CV 3/5] END colsample_bytree=0.8, learning_rate=0.1, max_depth=6, n_estimators=50, subsample=0.8;, score=nan total time=   0.7s\n",
      "[CV 4/5] END colsample_bytree=0.8, learning_rate=0.1, max_depth=6, n_estimators=50, subsample=0.8;, score=nan total time=   0.7s\n",
      "[CV 5/5] END colsample_bytree=0.8, learning_rate=0.1, max_depth=6, n_estimators=50, subsample=0.8;, score=nan total time=   0.7s\n",
      "[CV 1/5] END colsample_bytree=0.8, learning_rate=0.1, max_depth=6, n_estimators=50, subsample=1;, score=nan total time=   0.7s\n",
      "[CV 2/5] END colsample_bytree=0.8, learning_rate=0.1, max_depth=6, n_estimators=50, subsample=1;, score=nan total time=   0.7s\n",
      "[CV 3/5] END colsample_bytree=0.8, learning_rate=0.1, max_depth=6, n_estimators=50, subsample=1;, score=nan total time=   0.7s\n",
      "[CV 4/5] END colsample_bytree=0.8, learning_rate=0.1, max_depth=6, n_estimators=50, subsample=1;, score=nan total time=   0.7s\n",
      "[CV 5/5] END colsample_bytree=0.8, learning_rate=0.1, max_depth=6, n_estimators=50, subsample=1;, score=nan total time=   0.7s\n",
      "[CV 1/5] END colsample_bytree=0.8, learning_rate=0.1, max_depth=6, n_estimators=100, subsample=0.8;, score=nan total time=   0.7s\n"
     ]
    },
    {
     "name": "stderr",
     "output_type": "stream",
     "text": [
      "Exception ignored on calling ctypes callback function: <bound method DataIter._next_wrapper of <xgboost.data.SingleBatchInternalIter object at 0x2a027b850>>\n",
      "Traceback (most recent call last):\n",
      "  File \"/Users/puneetkucheria/miniconda3/envs/data_science_course/lib/python3.8/site-packages/xgboost/core.py\", line 589, in _next_wrapper\n",
      "    def _next_wrapper(self, this: None) -> int:  # pylint: disable=unused-argument\n",
      "KeyboardInterrupt: \n"
     ]
    },
    {
     "name": "stdout",
     "output_type": "stream",
     "text": [
      "[CV 2/5] END colsample_bytree=0.8, learning_rate=0.1, max_depth=6, n_estimators=100, subsample=0.8;, score=nan total time=   0.7s\n",
      "[CV 3/5] END colsample_bytree=0.8, learning_rate=0.1, max_depth=6, n_estimators=100, subsample=0.8;, score=nan total time=   0.7s\n",
      "[CV 4/5] END colsample_bytree=0.8, learning_rate=0.1, max_depth=6, n_estimators=100, subsample=0.8;, score=nan total time=   0.7s\n",
      "[CV 5/5] END colsample_bytree=0.8, learning_rate=0.1, max_depth=6, n_estimators=100, subsample=0.8;, score=nan total time=   0.7s\n",
      "[CV 1/5] END colsample_bytree=0.8, learning_rate=0.1, max_depth=6, n_estimators=100, subsample=1;, score=nan total time=   0.7s\n",
      "[CV 2/5] END colsample_bytree=0.8, learning_rate=0.1, max_depth=6, n_estimators=100, subsample=1;, score=nan total time=   0.7s\n",
      "[CV 3/5] END colsample_bytree=0.8, learning_rate=0.1, max_depth=6, n_estimators=100, subsample=1;, score=nan total time=   0.7s\n",
      "[CV 4/5] END colsample_bytree=0.8, learning_rate=0.1, max_depth=6, n_estimators=100, subsample=1;, score=nan total time=   0.7s\n",
      "[CV 5/5] END colsample_bytree=0.8, learning_rate=0.1, max_depth=6, n_estimators=100, subsample=1;, score=nan total time=   0.7s\n",
      "[CV 1/5] END colsample_bytree=0.8, learning_rate=0.1, max_depth=6, n_estimators=150, subsample=0.8;, score=nan total time=   0.7s\n",
      "[CV 2/5] END colsample_bytree=0.8, learning_rate=0.1, max_depth=6, n_estimators=150, subsample=0.8;, score=nan total time=   0.7s\n",
      "[CV 3/5] END colsample_bytree=0.8, learning_rate=0.1, max_depth=6, n_estimators=150, subsample=0.8;, score=nan total time=   0.7s\n",
      "[CV 4/5] END colsample_bytree=0.8, learning_rate=0.1, max_depth=6, n_estimators=150, subsample=0.8;, score=nan total time=   0.7s\n",
      "[CV 5/5] END colsample_bytree=0.8, learning_rate=0.1, max_depth=6, n_estimators=150, subsample=0.8;, score=nan total time=   0.7s\n",
      "[CV 1/5] END colsample_bytree=0.8, learning_rate=0.1, max_depth=6, n_estimators=150, subsample=1;, score=nan total time=   0.7s\n",
      "[CV 2/5] END colsample_bytree=0.8, learning_rate=0.1, max_depth=6, n_estimators=150, subsample=1;, score=nan total time=   0.7s\n",
      "[CV 3/5] END colsample_bytree=0.8, learning_rate=0.1, max_depth=6, n_estimators=150, subsample=1;, score=nan total time=   0.7s\n"
     ]
    }
   ],
   "source": [
    "from sklearn.model_selection import GridSearchCV\n",
    "model = XGBClassifier(random_state=0, device='mps')\n",
    "search = GridSearchCV(estimator = model, param_grid = param_grid, cv=5, refit=True, verbose=5)\n",
    "search.fit(x_res, y_res)"
   ]
  },
  {
   "cell_type": "code",
   "execution_count": null,
   "metadata": {},
   "outputs": [],
   "source": []
  },
  {
   "cell_type": "code",
   "execution_count": 33,
   "metadata": {},
   "outputs": [
    {
     "data": {
      "text/plain": [
       "{'colsample_bytree': 1,\n",
       " 'learning_rate': 0.3,\n",
       " 'max_depth': 10,\n",
       " 'n_estimators': 150,\n",
       " 'subsample': 0.8}"
      ]
     },
     "execution_count": 33,
     "metadata": {},
     "output_type": "execute_result"
    }
   ],
   "source": [
    "search.best_params_"
   ]
  },
  {
   "cell_type": "code",
   "execution_count": 34,
   "metadata": {},
   "outputs": [
    {
     "name": "stdout",
     "output_type": "stream",
     "text": [
      "confussion matrix\n",
      "[[56481  2090]\n",
      " [ 4371  1017]]\n",
      "\n",
      "\n",
      "Accuracy of XGBoost: 89.89821604465361 \n",
      "\n",
      "              precision    recall  f1-score   support\n",
      "\n",
      "           0       0.93      0.96      0.95     58571\n",
      "           1       0.33      0.19      0.24      5388\n",
      "\n",
      "    accuracy                           0.90     63959\n",
      "   macro avg       0.63      0.58      0.59     63959\n",
      "weighted avg       0.88      0.90      0.89     63959\n",
      "\n"
     ]
    }
   ],
   "source": [
    "xgb = search.best_estimator_\n",
    "# this is just to show the possibility\n",
    "# but it is recommended to train the model on complete training dataset again\n",
    "xgb_predict = xgb.predict(x_test)\n",
    "xgb_conf_matrix = confusion_matrix(y_test, xgb_predict)\n",
    "xgb_acc_score = accuracy_score(y_test, xgb_predict)\n",
    "print(\"confussion matrix\")\n",
    "print(xgb_conf_matrix)\n",
    "print(\"\\n\")\n",
    "print(\"Accuracy of XGBoost:\",xgb_acc_score*100,'\\n')\n",
    "print(classification_report(y_test,xgb_predict))"
   ]
  },
  {
   "cell_type": "markdown",
   "metadata": {},
   "source": [
    "# Step 6: Precison Recall analysis"
   ]
  },
  {
   "cell_type": "code",
   "execution_count": 35,
   "metadata": {},
   "outputs": [
    {
     "name": "stdout",
     "output_type": "stream",
     "text": [
      "[[0.8804034  0.11959659]\n",
      " [0.9883191  0.01168092]\n",
      " [0.9982419  0.00175812]\n",
      " [0.99664575 0.00335424]\n",
      " [0.9594616  0.04053835]\n",
      " [0.9689969  0.03100309]\n",
      " [0.9981729  0.00182713]\n",
      " [0.9550784  0.04492155]\n",
      " [0.98784065 0.01215935]\n",
      " [0.9408665  0.05913353]]\n",
      "[0 0 0 ... 0 0 0]\n"
     ]
    }
   ],
   "source": [
    "from sklearn.metrics import precision_recall_curve\n",
    "xgb_predict = xgb.predict(x_test)\n",
    "xgb_proba = xgb.predict_proba(x_test)\n",
    "print(xgb_proba[0:10])\n",
    "print(xgb_predict)"
   ]
  },
  {
   "cell_type": "code",
   "execution_count": 36,
   "metadata": {},
   "outputs": [],
   "source": [
    "precision, recall, thresholds = precision_recall_curve(y_test, xgb_proba[:,1])"
   ]
  },
  {
   "cell_type": "code",
   "execution_count": 37,
   "metadata": {},
   "outputs": [
    {
     "data": {
      "image/png": "[encoded data removed]",
      "text/plain": [
       "<Figure size 1000x600 with 2 Axes>"
      ]
     },
     "metadata": {},
     "output_type": "display_data"
    }
   ],
   "source": [
    "import numpy as np\n",
    "# Plot precision and recall on separate y-axes\n",
    "fig, ax1 = plt.subplots(figsize=(10, 6))\n",
    "\n",
    "ax1.set_xlabel('Threshold')\n",
    "ax1.set_ylabel('Precision', color='red')\n",
    "ax1.plot(thresholds, precision[:-1], color='red', label='Precision')\n",
    "ax1.tick_params(axis='y', labelcolor='red')\n",
    "\n",
    "ax2 = ax1.twinx()\n",
    "ax2.set_ylabel('Recall', color='blue')\n",
    "ax2.plot(thresholds, recall[:-1], color='blue', label='Recall')\n",
    "ax2.tick_params(axis='y', labelcolor='blue')\n",
    "\n",
    "\n",
    "fig.tight_layout()\n",
    "plt.title('Precision and Recall vs. Threshold')\n",
    "plt.show()"
   ]
  },
  {
   "cell_type": "code",
   "execution_count": 38,
   "metadata": {},
   "outputs": [
    {
     "data": {
      "image/png": "[encoded data removed]",
      "text/plain": [
       "<Figure size 800x600 with 1 Axes>"
      ]
     },
     "metadata": {},
     "output_type": "display_data"
    }
   ],
   "source": [
    "# applicable for any binary classfication model \n",
    "\n",
    "#FPR = FP / (FP + TN)\n",
    "#It measures the proportion of actual negative instances that are incorrectly predicted as positive.\n",
    "\n",
    "#TPR = TP / (TP + FN)\n",
    "#It measures the proportion of actual positive instances that are correctly predicted as positive.\n",
    "\n",
    "from sklearn.metrics import roc_curve, auc\n",
    "\n",
    "\n",
    "# Calculate ROC curve\n",
    "fpr, tpr, thresholds = roc_curve(y_test, xgb_proba[:,1])\n",
    "\n",
    "# Calculate AUC\n",
    "roc_auc = auc(fpr, tpr)\n",
    "\n",
    "# Plot ROC curve\n",
    "plt.figure(figsize=(8, 6))\n",
    "plt.plot(fpr, tpr, color='blue', label=f'ROC Curve (AUC = {roc_auc:.2f})')\n",
    "plt.plot([0, 1], [0, 1], color='red', linestyle='--', label='Random Guessing')\n",
    "\n",
    "plt.xlabel('False Positive Rate (FPR)')\n",
    "plt.ylabel('True Positive Rate (TPR) or Recall')\n",
    "plt.title('Receiver Operating Characteristic (ROC) Curve')\n",
    "plt.legend(loc='lower right')\n",
    "plt.show()"
   ]
  },
  {
   "cell_type": "code",
   "execution_count": 39,
   "metadata": {},
   "outputs": [
    {
     "name": "stdout",
     "output_type": "stream",
     "text": [
      "confussion matrix\n",
      "[[56481  2090]\n",
      " [ 4371  1017]]\n",
      "\n",
      "\n",
      "Accuracy of XGBoost: 89.89821604465361 \n",
      "\n",
      "              precision    recall  f1-score   support\n",
      "\n",
      "           0       0.93      0.96      0.95     58571\n",
      "           1       0.33      0.19      0.24      5388\n",
      "\n",
      "    accuracy                           0.90     63959\n",
      "   macro avg       0.63      0.58      0.59     63959\n",
      "weighted avg       0.88      0.90      0.89     63959\n",
      "\n"
     ]
    }
   ],
   "source": [
    "# Default results\n",
    "\n",
    "xgb_conf_matrix = confusion_matrix(y_test, xgb_predict)\n",
    "xgb_acc_score = accuracy_score(y_test, xgb_predict)\n",
    "print(\"confussion matrix\")\n",
    "print(xgb_conf_matrix)\n",
    "print(\"\\n\")\n",
    "print(\"Accuracy of XGBoost:\",xgb_acc_score*100,'\\n')\n",
    "print(classification_report(y_test,xgb_predict))"
   ]
  },
  {
   "cell_type": "code",
   "execution_count": 1,
   "metadata": {},
   "outputs": [
    {
     "ename": "NameError",
     "evalue": "name 'xgb_proba' is not defined",
     "output_type": "error",
     "traceback": [
      "\u001b[0;31m---------------------------------------------------------------------------\u001b[0m",
      "\u001b[0;31mNameError\u001b[0m                                 Traceback (most recent call last)",
      "Cell \u001b[0;32mIn[1], line 6\u001b[0m\n\u001b[1;32m      3\u001b[0m custom_threshold \u001b[38;5;241m=\u001b[39m \u001b[38;5;241m.5\u001b[39m\n\u001b[1;32m      5\u001b[0m \u001b[38;5;66;03m# Apply the custom threshold to obtain binary predictions\u001b[39;00m\n\u001b[0;32m----> 6\u001b[0m custom_predictions \u001b[38;5;241m=\u001b[39m (\u001b[43mxgb_proba\u001b[49m[:,\u001b[38;5;241m1\u001b[39m] \u001b[38;5;241m>\u001b[39m custom_threshold)\u001b[38;5;241m.\u001b[39mastype(\u001b[38;5;28mint\u001b[39m)\n\u001b[1;32m      7\u001b[0m \u001b[38;5;28mprint\u001b[39m(xgb_proba[:,\u001b[38;5;241m1\u001b[39m])\n\u001b[1;32m      8\u001b[0m \u001b[38;5;28mprint\u001b[39m(custom_predictions)\n",
      "\u001b[0;31mNameError\u001b[0m: name 'xgb_proba' is not defined"
     ]
    }
   ],
   "source": [
    "# Results with new threshold\n",
    "\n",
    "custom_threshold = .5\n",
    "\n",
    "# Apply the custom threshold to obtain binary predictions\n",
    "custom_predictions = (xgb_proba[:,1] > custom_threshold).astype(int)\n",
    "print(xgb_proba[:,1])\n",
    "print(custom_predictions)"
   ]
  },
  {
   "cell_type": "code",
   "execution_count": 2,
   "metadata": {},
   "outputs": [
    {
     "ename": "NameError",
     "evalue": "name 'confusion_matrix' is not defined",
     "output_type": "error",
     "traceback": [
      "\u001b[0;31m---------------------------------------------------------------------------\u001b[0m",
      "\u001b[0;31mNameError\u001b[0m                                 Traceback (most recent call last)",
      "Cell \u001b[0;32mIn[2], line 7\u001b[0m\n\u001b[1;32m      1\u001b[0m \u001b[38;5;66;03m#Precision = TP / (TP + FP)\u001b[39;00m\n\u001b[1;32m      2\u001b[0m \u001b[38;5;66;03m#Precision indicates the proportion of positive predictions that were actually correct.\u001b[39;00m\n\u001b[1;32m      3\u001b[0m \n\u001b[1;32m      4\u001b[0m \u001b[38;5;66;03m#Recall = TP / (TP + FN)\u001b[39;00m\n\u001b[1;32m      5\u001b[0m \u001b[38;5;66;03m#Recall indicates the proportion of actual positive instances that were correctly identified by the model.\u001b[39;00m\n\u001b[0;32m----> 7\u001b[0m xgb_conf_matrix \u001b[38;5;241m=\u001b[39m \u001b[43mconfusion_matrix\u001b[49m(y_test, custom_predictions)\n\u001b[1;32m      8\u001b[0m xgb_acc_score \u001b[38;5;241m=\u001b[39m accuracy_score(y_test, custom_predictions)\n\u001b[1;32m      9\u001b[0m \u001b[38;5;28mprint\u001b[39m(\u001b[38;5;124m\"\u001b[39m\u001b[38;5;124mconfussion matrix\u001b[39m\u001b[38;5;124m\"\u001b[39m)\n",
      "\u001b[0;31mNameError\u001b[0m: name 'confusion_matrix' is not defined"
     ]
    }
   ],
   "source": [
    "#Precision = TP / (TP + FP)\n",
    "#Precision indicates the proportion of positive predictions that were actually correct.\n",
    "\n",
    "#Recall = TP / (TP + FN)\n",
    "#Recall indicates the proportion of actual positive instances that were correctly identified by the model.\n",
    "\n",
    "xgb_conf_matrix = confusion_matrix(y_test, custom_predictions)\n",
    "xgb_acc_score = accuracy_score(y_test, custom_predictions)\n",
    "print(\"confussion matrix\")\n",
    "print(xgb_conf_matrix)\n",
    "print(\"\\n\")\n",
    "print(\"Accuracy of XGBoost:\",xgb_acc_score*100,'\\n')\n",
    "print(classification_report(y_test,custom_predictions))"
   ]
  },
  {
   "cell_type": "code",
   "execution_count": null,
   "metadata": {},
   "outputs": [],
   "source": []
  }
 ],
 "metadata": {
  "kernelspec": {
   "display_name": "data_science_course",
   "language": "python",
   "name": "python3"
  },
  "language_info": {
   "codemirror_mode": {
    "name": "ipython",
    "version": 3
   },
   "file_extension": ".py",
   "mimetype": "text/x-python",
   "name": "python",
   "nbconvert_exporter": "python",
   "pygments_lexer": "ipython3",
   "version": "3.8.18"
  }
 },
 "nbformat": 4,
 "nbformat_minor": 2
}
